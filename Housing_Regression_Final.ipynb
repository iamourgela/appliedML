{
 "cells": [
  {
   "cell_type": "markdown",
   "id": "04a292fb",
   "metadata": {},
   "source": [
    "## Regression Analysis\n",
    "\n",
    "### Step 1: Load the Libraries"
   ]
  },
  {
   "cell_type": "code",
   "execution_count": null,
   "id": "80e5b545",
   "metadata": {},
   "outputs": [],
   "source": [
    "import pandas as pd\n",
    "import numpy as np\n",
    "import matplotlib.pyplot as plt\n",
    "import seaborn as sns\n",
    "\n",
    "from sklearn.model_selection import train_test_split, GridSearchCV, cross_val_score\n",
    "from sklearn.linear_model import LinearRegression, Lasso, Ridge\n",
    "from sklearn.ensemble import RandomForestRegressor, GradientBoostingRegressor\n",
    "from sklearn.preprocessing import StandardScaler\n",
    "from sklearn.metrics import mean_squared_error, r2_score\n",
    "from sklearn.impute import SimpleImputer\n",
    "from sklearn.pipeline import make_pipeline\n",
    "from sklearn.utils import resample\n",
    "import warnings\n",
    "warnings.filterwarnings('ignore')"
   ]
  },
  {
   "cell_type": "markdown",
   "id": "d184787f",
   "metadata": {},
   "source": [
    "### Step 2: Load the Data\n",
    "We will read the training and test data."
   ]
  },
  {
   "cell_type": "code",
   "execution_count": null,
   "id": "bcc26b67",
   "metadata": {},
   "outputs": [],
   "source": [
    "train = pd.read_csv('train.csv')\n",
    "test = pd.read_csv('test.csv')\n",
    "print(f\"Train shape: {train.shape}\")\n",
    "print(f\"Test shape: {test.shape}\")\n",
    "train.head()"
   ]
  },
  {
   "cell_type": "markdown",
   "id": "f7d1b6a6",
   "metadata": {},
   "source": [
    "### Step 3: Data Exploration\n",
    "Let's look at the summary of the dataset."
   ]
  },
  {
   "cell_type": "code",
   "execution_count": null,
   "id": "8a64ab66",
   "metadata": {},
   "outputs": [],
   "source": [
    "train.info()\n",
    "train.describe()"
   ]
  },
  {
   "cell_type": "markdown",
   "id": "4a23f3ce",
   "metadata": {},
   "source": [
    "### Step 4: Data Cleaning\n",
    "We will drop columns with too many missing values."
   ]
  },
  {
   "cell_type": "code",
   "execution_count": null,
   "id": "b8135ecd",
   "metadata": {},
   "outputs": [],
   "source": [
    "# Drop columns with more than 40% missing data\n",
    "missing = train.isnull().sum()\n",
    "drop_cols = missing[missing > 0.4 * len(train)].index.tolist()\n",
    "train.drop(columns=drop_cols, inplace=True)\n",
    "test.drop(columns=drop_cols, inplace=True)"
   ]
  },
  {
   "cell_type": "markdown",
   "id": "533345bc",
   "metadata": {},
   "source": [
    "### Step 5: Handle Missing Values\n",
    "We will impute numerical and categorical columns."
   ]
  },
  {
   "cell_type": "code",
   "execution_count": null,
   "id": "9358c3bc",
   "metadata": {},
   "outputs": [],
   "source": [
    "# Separate columns\n",
    "cat_cols = train.select_dtypes(include='object').columns\n",
    "num_cols = train.select_dtypes(include=['int64', 'float64']).drop(['Id', 'SalePrice'], axis=1).columns\n",
    "\n",
    "# Impute\n",
    "num_imputer = SimpleImputer(strategy='median')\n",
    "cat_imputer = SimpleImputer(strategy='most_frequent')\n",
    "train[num_cols] = num_imputer.fit_transform(train[num_cols])\n",
    "train[cat_cols] = cat_imputer.fit_transform(train[cat_cols])\n",
    "test[num_cols] = num_imputer.transform(test[num_cols])\n",
    "test[cat_cols] = cat_imputer.transform(test[cat_cols])"
   ]
  },
  {
   "cell_type": "markdown",
   "id": "1f5f492e",
   "metadata": {},
   "source": [
    "### Step 6: Encoding Categorical Features\n",
    "We will use one-hot encoding."
   ]
  },
  {
   "cell_type": "code",
   "execution_count": null,
   "id": "f2844e0b",
   "metadata": {},
   "outputs": [],
   "source": [
    "train_encoded = pd.get_dummies(train, drop_first=True)\n",
    "test_encoded = pd.get_dummies(test, drop_first=True)\n",
    "\n",
    "# Align columns\n",
    "X = train_encoded.drop(columns=['SalePrice', 'Id'])\n",
    "y = train_encoded['SalePrice']\n",
    "X_test = test_encoded.reindex(columns=X.columns, fill_value=0)"
   ]
  },
  {
   "cell_type": "markdown",
   "id": "7e051e5b",
   "metadata": {},
   "source": [
    "### Step 7: Feature Scaling\n",
    "We will standardize the features."
   ]
  },
  {
   "cell_type": "code",
   "execution_count": null,
   "id": "13c59059",
   "metadata": {},
   "outputs": [],
   "source": [
    "scaler = StandardScaler()\n",
    "X_scaled = scaler.fit_transform(X)\n",
    "X_test_scaled = scaler.transform(X_test)"
   ]
  },
  {
   "cell_type": "markdown",
   "id": "926c59d8",
   "metadata": {},
   "source": [
    "### Step 8: Train Models\n",
    "We will try different models and compare their performance."
   ]
  },
  {
   "cell_type": "code",
   "execution_count": null,
   "id": "ca0e7e8e",
   "metadata": {},
   "outputs": [],
   "source": [
    "models = {\n",
    "    'LinearRegression': LinearRegression(),\n",
    "    'Ridge': Ridge(alpha=1.0),\n",
    "    'Lasso': Lasso(alpha=0.01),\n",
    "    'RandomForest': RandomForestRegressor(n_estimators=100, max_depth=10, random_state=42),\n",
    "    'GradientBoosting': GradientBoostingRegressor(n_estimators=100, learning_rate=0.1, max_depth=3)\n",
    "}\n",
    "\n",
    "results = []\n",
    "for name, model in models.items():\n",
    "    model.fit(X_scaled, y)\n",
    "    preds = model.predict(X_scaled)\n",
    "    rmse = np.sqrt(mean_squared_error(y, preds))\n",
    "    r2 = r2_score(y, preds)\n",
    "    results.append({'Model': name, 'RMSE': round(rmse, 2), 'R2': round(r2, 3)})\n",
    "\n",
    "pd.DataFrame(results)"
   ]
  },
  {
   "cell_type": "markdown",
   "id": "e683d598",
   "metadata": {},
   "source": [
    "### Step 9: Extended Regression Models with Evaluation\n",
    "Now we'll evaluate several regression techniques including:\n",
    "- Linear Regression\n",
    "- Polynomial Regression (degree 2)\n",
    "- Lasso Regression\n",
    "- Ridge Regression\n",
    "\n",
    "We'll evaluate using:\n",
    "- RMSE on training data\n",
    "- R² on training data\n",
    "- 5-fold Cross-Validated RMSE"
   ]
  },
  {
   "cell_type": "code",
   "execution_count": null,
   "id": "81ef0aae",
   "metadata": {},
   "outputs": [],
   "source": [
    "from sklearn.preprocessing import PolynomialFeatures\n",
    "from sklearn.pipeline import Pipeline\n",
    "\n",
    "models = {\n",
    "    'Linear Regression': LinearRegression(),\n",
    "    'Polynomial Regression (deg 2)': Pipeline([\n",
    "        ('poly', PolynomialFeatures(degree=2, include_bias=False)),\n",
    "        ('linreg', LinearRegression())\n",
    "    ]),\n",
    "    'Ridge Regression': Ridge(alpha=1.0),\n",
    "    'Lasso Regression': Lasso(alpha=0.01)\n",
    "}\n",
    "\n",
    "results = []\n",
    "for name, model in models.items():\n",
    "    model.fit(X_scaled, y)\n",
    "    preds = model.predict(X_scaled)\n",
    "    rmse = np.sqrt(mean_squared_error(y, preds))\n",
    "    r2 = r2_score(y, preds)\n",
    "    cv_rmse = -cross_val_score(model, X_scaled, y, cv=5, scoring='neg_root_mean_squared_error').mean()\n",
    "    results.append({\n",
    "        'Model': name,\n",
    "        'Train RMSE': round(rmse, 2),\n",
    "        'Train R²': round(r2, 3),\n",
    "        'CV RMSE': round(cv_rmse, 2)\n",
    "    })\n",
    "\n",
    "pd.DataFrame(results).sort_values(by='CV RMSE')"
   ]
  },
  {
   "cell_type": "markdown",
   "id": "1570b832",
   "metadata": {},
   "source": [
    "### Step 10: Feature Correlation & Sanity Checks\n",
    "We will perform sanity checks and analyze correlations between features.\n",
    "- High correlation between features may introduce multicollinearity\n",
    "- We'll use a heatmap to identify such cases and drop redundant features"
   ]
  },
  {
   "cell_type": "code",
   "execution_count": null,
   "id": "2e701b62",
   "metadata": {},
   "outputs": [],
   "source": [
    "# Compute correlation matrix\n",
    "corr_matrix = pd.DataFrame(X_scaled, columns=X.columns).corr()\n",
    "\n",
    "# Plot heatmap of top correlated features\n",
    "plt.figure(figsize=(12, 10))\n",
    "sns.heatmap(corr_matrix, cmap='coolwarm', center=0, square=True, cbar_kws={'shrink': .5})\n",
    "plt.title('Feature Correlation Heatmap')\n",
    "plt.show()"
   ]
  },
  {
   "cell_type": "code",
   "execution_count": null,
   "id": "a358acfb",
   "metadata": {},
   "outputs": [],
   "source": [
    "# Drop features with correlation > 0.95\n",
    "threshold = 0.95\n",
    "upper = corr_matrix.where(np.triu(np.ones(corr_matrix.shape), k=1).astype(bool))\n",
    "high_corr_features = [column for column in upper.columns if any(upper[column].abs() > threshold)]\n",
    "print(\"Dropping correlated features:\", high_corr_features)\n",
    "X_reduced = pd.DataFrame(X_scaled, columns=X.columns).drop(columns=high_corr_features)"
   ]
  },
  {
   "cell_type": "markdown",
   "id": "a6481469",
   "metadata": {},
   "source": [
    "### Step 11: Dimensionality Reduction (Optional PCA)\n",
    "PCA helps to reduce dimensionality while preserving variance.\n",
    "We will check how many components explain 95% of the variance."
   ]
  },
  {
   "cell_type": "code",
   "execution_count": null,
   "id": "58c332d7",
   "metadata": {},
   "outputs": [],
   "source": [
    "pca = PCA(n_components=0.95)\n",
    "X_pca = pca.fit_transform(X_reduced)\n",
    "print(f\"Original shape: {X_reduced.shape}, PCA shape: {X_pca.shape}\")\n",
    "\n",
    "# Plot explained variance\n",
    "plt.figure(figsize=(8, 4))\n",
    "plt.plot(np.cumsum(pca.explained_variance_ratio_))\n",
    "plt.xlabel('Number of Components')\n",
    "plt.ylabel('Cumulative Explained Variance')\n",
    "plt.title('PCA - Explained Variance')\n",
    "plt.grid(True)\n",
    "plt.show()"
   ]
  },
  {
   "cell_type": "markdown",
   "id": "6b0aca37",
   "metadata": {},
   "source": [
    "### Step 12: Feature Importance (from Random Forest)\n",
    "Let's visualize which features are most important using a trained Random Forest model."
   ]
  },
  {
   "cell_type": "code",
   "execution_count": null,
   "id": "06891212",
   "metadata": {},
   "outputs": [],
   "source": [
    "rf = RandomForestRegressor(n_estimators=100, max_depth=10, random_state=42)\n",
    "rf.fit(X_reduced, y)\n",
    "importances = pd.Series(rf.feature_importances_, index=X_reduced.columns)\n",
    "top_features = importances.sort_values(ascending=False).head(15)\n",
    "\n",
    "plt.figure(figsize=(10, 6))\n",
    "sns.barplot(x=top_features.values, y=top_features.index)\n",
    "plt.title('Top 15 Feature Importances (Random Forest)')\n",
    "plt.xlabel('Importance Score')\n",
    "plt.tight_layout()\n",
    "plt.show()"
   ]
  }
 ],
 "metadata": {},
 "nbformat": 4,
 "nbformat_minor": 5
}
